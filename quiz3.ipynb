{
 "cells": [
  {
   "cell_type": "markdown",
   "metadata": {},
   "source": [
    "# Quiz 3\n",
    "\n",
    "**Author:**"
   ]
  },
  {
   "cell_type": "markdown",
   "metadata": {},
   "source": [
    "**Exercise 1:** \n",
    "\n",
    "1. Import the nobel price data frame using pandas.\n",
    "\n",
    "2. Explore the data set: \n",
    "\n",
    "    2.1. Print the first five rows of the table.\n",
    "\n",
    "    2.2. Print all the columns in the table.\n",
    "\n",
    "    2.3. Print the types of all the columns in the table.\n",
    "\n",
    "    2.4. Would the describe function give us any useful information of this data? (answer based on the data types of the columns).\n",
    "\n",
    "3. Select only the gender column. Using a lambda function and the filter function, calculate the number and proportion of woman who have won the nobel price.\n",
    "\n",
    "4. Select the column gender and save it in an object called ```g```. Do the same with the column category, and save it in an object called ```c```. Create a new object ```gc = g + c``` and print the content. \n",
    "\n",
    "5. Use the object ```gc```, a lambda function and the filter function to calculate the number and proportion of females that have won the economics novel price. Compare that number with the total number of females that have won any nobel price (from question 3) "
   ]
  },
  {
   "cell_type": "code",
   "execution_count": 1,
   "metadata": {},
   "outputs": [
    {
     "data": {
      "text/plain": [
       "'/home/ec2-user/SageMaker/quiz-3-JonathanWry'"
      ]
     },
     "execution_count": 1,
     "metadata": {},
     "output_type": "execute_result"
    }
   ],
   "source": [
    "import pandas as pd\n",
    "import os\n",
    "os.getcwd()"
   ]
  },
  {
   "cell_type": "code",
   "execution_count": 31,
   "metadata": {},
   "outputs": [
    {
     "name": "stdout",
     "output_type": "stream",
     "text": [
      "first 5 rows:\n",
      "    index   id         firstname  surname        born        died bornCountry  \\\n",
      "0      0  846            Elinor   Ostrom    8/7/1933   6/12/2012         USA   \n",
      "1      1  846            Elinor   Ostrom    8/7/1933   6/12/2012         USA   \n",
      "2      2  783      Wangari Muta  Maathai    4/1/1940   9/25/2011       Kenya   \n",
      "3      3  230  Dorothy Crowfoot  Hodgkin   5/12/1910   7/29/1994       Egypt   \n",
      "4      4  918            Youyou       Tu  12/30/1930  0000-00-00       China   \n",
      "\n",
      "  bornCountryCode         bornCity     diedCountry  ...           diedCity  \\\n",
      "0              US  Los Angeles, CA             USA  ...    Bloomington, IN   \n",
      "1              US  Los Angeles, CA             USA  ...    Bloomington, IN   \n",
      "2              KE            Nyeri           Kenya  ...            Nairobi   \n",
      "3              EG            Cairo  United Kingdom  ...  Shipston-on-Stour   \n",
      "4              CN  Zhejiang Ningbo             NaN  ...                NaN   \n",
      "\n",
      "   gender    year   category overallMotivation share  \\\n",
      "0  female  2009.0  economics               NaN   2.0   \n",
      "1  female  2009.0  economics               NaN   2.0   \n",
      "2  female  2004.0      peace               NaN   1.0   \n",
      "3  female  1964.0  chemistry               NaN   1.0   \n",
      "4  female  2015.0   medicine               NaN   2.0   \n",
      "\n",
      "                                          motivation  \\\n",
      "0  \"for her analysis of economic governance, espe...   \n",
      "1  \"for her analysis of economic governance, espe...   \n",
      "2  \"for her contribution to sustainable developme...   \n",
      "3  \"for her determinations by X-ray techniques of...   \n",
      "4  \"for her discoveries concerning a novel therap...   \n",
      "\n",
      "                                            name             city  \\\n",
      "0                             Indiana University  Bloomington, IN   \n",
      "1                       Arizona State University        Tempe, AZ   \n",
      "2                                            NaN              NaN   \n",
      "3            University of Oxford, Royal Society           Oxford   \n",
      "4  China Academy of Traditional Chinese Medicine          Beijing   \n",
      "\n",
      "          country  \n",
      "0             USA  \n",
      "1             USA  \n",
      "2             NaN  \n",
      "3  United Kingdom  \n",
      "4           China  \n",
      "\n",
      "[5 rows x 21 columns]\n",
      "columns:\n",
      " Index(['index', 'id', 'firstname', 'surname', 'born', 'died', 'bornCountry',\n",
      "       'bornCountryCode', 'bornCity', 'diedCountry', 'diedCountryCode',\n",
      "       'diedCity', 'gender', 'year', 'category', 'overallMotivation', 'share',\n",
      "       'motivation', 'name', 'city', 'country'],\n",
      "      dtype='object')\n",
      "types:\n",
      " index                  int64\n",
      "id                     int64\n",
      "firstname             object\n",
      "surname               object\n",
      "born                  object\n",
      "died                  object\n",
      "bornCountry           object\n",
      "bornCountryCode       object\n",
      "bornCity              object\n",
      "diedCountry           object\n",
      "diedCountryCode       object\n",
      "diedCity              object\n",
      "gender                object\n",
      "year                 float64\n",
      "category              object\n",
      "overallMotivation     object\n",
      "share                float64\n",
      "motivation            object\n",
      "name                  object\n",
      "city                  object\n",
      "country               object\n",
      "dtype: object\n",
      "describe function:             index          id         year       share\n",
      "count  972.000000  972.000000   966.000000  966.000000\n",
      "mean   485.500000  471.365226  1970.145963    2.005176\n",
      "std    280.736531  275.012711    32.889742    0.930193\n",
      "min      0.000000    1.000000  1901.000000    1.000000\n",
      "25%    242.750000  230.750000  1947.000000    1.000000\n",
      "50%    485.500000  463.500000  1976.000000    2.000000\n",
      "75%    728.250000  720.250000  1999.000000    3.000000\n",
      "max    971.000000  934.000000  2016.000000    4.000000\n",
      "total female:\n",
      " 50\n",
      "total porportion\n",
      " 0.051440329218107\n",
      "gc:\n",
      " 0      femaleeconomics\n",
      "1      femaleeconomics\n",
      "2          femalepeace\n",
      "3      femalechemistry\n",
      "4       femalemedicine\n",
      "            ...       \n",
      "967           orgpeace\n",
      "968           orgpeace\n",
      "969           orgpeace\n",
      "970           orgpeace\n",
      "971           orgpeace\n",
      "Length: 972, dtype: object\n",
      "ge\n",
      " 2\n",
      "females getting economic nobel price is  4.0 proportion of total female nobel price winners\n"
     ]
    }
   ],
   "source": [
    "nobel=pd.read_csv('/home/ec2-user/SageMaker/quiz-3-JonathanWry/data/nobel_prize.csv')\n",
    "print(\"first 5 rows:\\n\",nobel.head())\n",
    "print(\"columns:\\n\",nobel.columns)\n",
    "print(\"types:\\n\",nobel.dtypes)\n",
    "print(\"describe function:\",nobel.describe())\n",
    "#972 index and id but only 966 year, so there is missing data.mean year is approximately 1970 andmean share is about 2; the year ends in 2016\n",
    "\n",
    "num_f=len(list(filter(lambda x: x=='female', nobel['gender'])))\n",
    "proportion=num_f/len(list(nobel['gender']))\n",
    "print(\"total female:\\n\",num_f)\n",
    "print(\"total porportion\\n\",proportion)\n",
    "\n",
    "g=nobel['gender']\n",
    "c=nobel['category']\n",
    "gc=g+c\n",
    "print(\"gc:\\n\",gc)\n",
    "\n",
    "ge=len(list(filter(lambda x:x=='femaleeconomics', gc)))\n",
    "print(\"ge\\n\",ge)\n",
    "print(\"females getting economic nobel price is \",100*ge/num_f, \"proportion of total female nobel price winners\")\n",
    "\n",
    "\n"
   ]
  },
  {
   "cell_type": "code",
   "execution_count": null,
   "metadata": {},
   "outputs": [],
   "source": []
  }
 ],
 "metadata": {
  "kernelspec": {
   "display_name": "conda_amazonei_mxnet_p36",
   "language": "python",
   "name": "conda_amazonei_mxnet_p36"
  },
  "language_info": {
   "codemirror_mode": {
    "name": "ipython",
    "version": 3
   },
   "file_extension": ".py",
   "mimetype": "text/x-python",
   "name": "python",
   "nbconvert_exporter": "python",
   "pygments_lexer": "ipython3",
   "version": "3.6.13"
  },
  "vscode": {
   "interpreter": {
    "hash": "11838f79d2aaadbfa3a2adfaf35bacdebdb4e8d9b63957ddf298964812544a76"
   }
  }
 },
 "nbformat": 4,
 "nbformat_minor": 4
}
